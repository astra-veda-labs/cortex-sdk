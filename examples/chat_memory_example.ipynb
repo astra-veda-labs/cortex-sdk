{
  "cells": [
    {
      "cell_type": "markdown",
      "metadata": {},
      "source": [
        "# Cortex SDK - Chat Memory Example\n",
        "\n",
        "This notebook demonstrates how to use Cortex SDK for managing conversational memory in a chat application.\n",
        "\n",
        "## Overview\n",
        "\n",
        "We'll show how to:\n",
        "- Store chat messages and context\n",
        "- Recall relevant conversation history\n",
        "- Summarize conversations\n",
        "- Manage long-term chat memories\n"
      ]
    },
    {
      "cell_type": "markdown",
      "metadata": {},
      "source": [
        "## Setup\n"
      ]
    },
    {
      "cell_type": "code",
      "execution_count": null,
      "metadata": {},
      "outputs": [],
      "source": [
        "from cortex import MemoryManager, MemoryConfig\n",
        "from cortex.utils.schema import MemoryType, MemoryPriority\n",
        "from datetime import datetime\n",
        "import json\n"
      ]
    },
    {
      "cell_type": "markdown",
      "metadata": {},
      "source": [
        "## Initialize Memory Manager\n"
      ]
    },
    {
      "cell_type": "code",
      "execution_count": null,
      "metadata": {},
      "outputs": [],
      "source": [
        "# Create a lightweight configuration for the demo\n",
        "config = MemoryConfig.lightweight()\n",
        "config.short_term_capacity = 50\n",
        "config.similarity_threshold = 0.4\n",
        "\n",
        "# Initialize memory manager\n",
        "memory = MemoryManager(config=config, backend=\"local\")\n",
        "\n",
        "print(\"✅ Memory Manager initialized\")\n"
      ]
    },
    {
      "cell_type": "markdown",
      "metadata": {},
      "source": [
        "## Simulate Chat Conversation\n"
      ]
    },
    {
      "cell_type": "code",
      "execution_count": null,
      "metadata": {},
      "outputs": [],
      "source": [
        "# Simulate a conversation\n",
        "conversation = [\n",
        "    (\"user\", \"Hi! I'm interested in learning Python.\"),\n",
        "    (\"assistant\", \"Great! Python is an excellent language for beginners.\"),\n",
        "    (\"user\", \"I'm particularly interested in data science.\"),\n",
        "    (\"assistant\", \"Perfect! Python has excellent libraries for data science.\"),\n",
        "]\n",
        "\n",
        "print(\"💬 Storing conversation...\\\\n\")\n",
        "\n",
        "for i, (role, message) in enumerate(conversation):\n",
        "    memory_content = f\"{role}: {message}\"\n",
        "    memory.remember(\n",
        "        content=memory_content,\n",
        "        memory_type=MemoryType.SHORT_TERM,\n",
        "        tags=[\"chat\", role],\n",
        "        metadata={\"role\": role, \"turn\": i}\n",
        "    )\n",
        "    print(f\"  [{i+1}] {role}: {message}\")\n",
        "\n",
        "print(f\"\\\\n✅ Stored {len(conversation)} messages\")\n"
      ]
    },
    {
      "cell_type": "markdown",
      "metadata": {},
      "source": [
        "## Recall Relevant Context\n"
      ]
    },
    {
      "cell_type": "code",
      "execution_count": null,
      "metadata": {},
      "outputs": [],
      "source": [
        "# Recall relevant memories\n",
        "query = \"What am I interested in learning?\"\n",
        "\n",
        "print(f\"🔍 Query: {query}\\\\n\")\n",
        "results = memory.recall(query=query, limit=3)\n",
        "\n",
        "print(f\"Found {len(results)} relevant memories:\\\\n\")\n",
        "for result in results:\n",
        "    print(f\"  [Similarity: {result.similarity:.3f}] {result.memory.content}\")\n"
      ]
    },
    {
      "cell_type": "markdown",
      "metadata": {},
      "source": [
        "## Summarize Conversation\n"
      ]
    },
    {
      "cell_type": "code",
      "execution_count": null,
      "metadata": {},
      "outputs": [],
      "source": [
        "# Generate summary\n",
        "summary = memory.summarize(tags=[\"chat\"])\n",
        "\n",
        "print(\"📊 Conversation Summary:\\\\n\")\n",
        "print(f\"{summary.summary_text}\\\\n\")\n",
        "print(f\"Messages: {summary.num_memories}\")\n"
      ]
    },
    {
      "cell_type": "markdown",
      "metadata": {},
      "source": [
        "## Memory Statistics\n"
      ]
    },
    {
      "cell_type": "code",
      "execution_count": null,
      "metadata": {},
      "outputs": [],
      "source": [
        "# Get statistics\n",
        "stats = memory.get_stats()\n",
        "\n",
        "print(\"📈 Memory Statistics:\\\\n\")\n",
        "print(f\"Total memories: {stats.total_memories}\")\n",
        "print(f\"Short-term: {stats.short_term_count}\")\n",
        "print(f\"Long-term: {stats.long_term_count}\")\n"
      ]
    }
  ],
  "metadata": {
    "language_info": {
      "name": "python"
    }
  },
  "nbformat": 4,
  "nbformat_minor": 2
}
